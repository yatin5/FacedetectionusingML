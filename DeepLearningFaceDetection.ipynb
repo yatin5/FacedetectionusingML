{
 "cells": [
  {
   "cell_type": "code",
   "execution_count": 22,
   "metadata": {
    "collapsed": true,
    "ExecuteTime": {
     "end_time": "2023-07-19T22:36:03.125416Z",
     "start_time": "2023-07-19T22:36:03.119270Z"
    }
   },
   "outputs": [],
   "source": [
    "import zipfile\n",
    "from PIL import Image\n",
    "import cv2 as cv\n",
    "import numpy as np\n",
    "import pytesseract\n",
    "import math\n",
    "import os\n",
    "import darknet\n"
   ]
  },
  {
   "cell_type": "code",
   "execution_count": 23,
   "outputs": [],
   "source": [
    "# Define the YOLO detector\n",
    "def yolo_detector(img, net, meta):\n",
    "    \"\"\"\n",
    "    Detect objects in the image using YOLO.\n",
    "    \"\"\"\n",
    "    width = darknet.network_width(net)\n",
    "    height = darknet.network_height(net)\n",
    "    darknet_image = darknet.make_image(width, height, 3)\n",
    "    frame_rgb = cv.cvtColor(img, cv.COLOR_BGR2RGB)\n",
    "    frame_resized = cv.resize(frame_rgb, (width, height), interpolation=cv.INTER_LINEAR)\n",
    "    darknet.copy_image_from_bytes(darknet_image, frame_resized.tobytes())\n",
    "    detections = darknet.detect_image(net, meta, darknet_image, thresh=0.5)\n",
    "    darknet.free_image(darknet_image)\n",
    "    return detections\n"
   ],
   "metadata": {
    "collapsed": false,
    "ExecuteTime": {
     "end_time": "2023-07-19T22:36:04.206247Z",
     "start_time": "2023-07-19T22:36:04.200720Z"
    }
   }
  },
  {
   "cell_type": "code",
   "execution_count": 24,
   "outputs": [
    {
     "ename": "AttributeError",
     "evalue": "module 'darknet' has no attribute 'load_network'",
     "output_type": "error",
     "traceback": [
      "\u001B[0;31m---------------------------------------------------------------------------\u001B[0m",
      "\u001B[0;31mAttributeError\u001B[0m                            Traceback (most recent call last)",
      "Cell \u001B[0;32mIn[24], line 1\u001B[0m\n\u001B[0;32m----> 1\u001B[0m net \u001B[38;5;241m=\u001B[39m \u001B[43mdarknet\u001B[49m\u001B[38;5;241;43m.\u001B[39;49m\u001B[43mload_network\u001B[49m(\u001B[38;5;124m\"\u001B[39m\u001B[38;5;124m/Users/yatinpatel/Desktop/Python3-Programming-Course/yolo/yolov4-tiny.cfg\u001B[39m\u001B[38;5;124m\"\u001B[39m\u001B[38;5;241m.\u001B[39mencode(\u001B[38;5;124m\"\u001B[39m\u001B[38;5;124mascii\u001B[39m\u001B[38;5;124m\"\u001B[39m), \u001B[38;5;124m\"\u001B[39m\u001B[38;5;124m/Users/yatinpatel/Desktop/Python3-Programming-Course/yolo/yolov4-tiny.weights\u001B[39m\u001B[38;5;124m\"\u001B[39m\u001B[38;5;241m.\u001B[39mencode(\u001B[38;5;124m\"\u001B[39m\u001B[38;5;124mascii\u001B[39m\u001B[38;5;124m\"\u001B[39m), \u001B[38;5;241m0\u001B[39m, \u001B[38;5;241m1\u001B[39m)\n\u001B[1;32m      2\u001B[0m meta \u001B[38;5;241m=\u001B[39m darknet\u001B[38;5;241m.\u001B[39mload_meta(\u001B[38;5;124m\"\u001B[39m\u001B[38;5;124m/Users/yatinpatel/Desktop/Python3-Programming-Course/yolo/coco.data\u001B[39m\u001B[38;5;124m\"\u001B[39m\u001B[38;5;241m.\u001B[39mencode(\u001B[38;5;124m\"\u001B[39m\u001B[38;5;124mascii\u001B[39m\u001B[38;5;124m\"\u001B[39m))\n",
      "\u001B[0;31mAttributeError\u001B[0m: module 'darknet' has no attribute 'load_network'"
     ]
    }
   ],
   "source": [
    "net = darknet.load_network(\"/Users/yatinpatel/Desktop/Python3-Programming-Course/yolo/yolov4-tiny.cfg\".encode(\"ascii\"), \"/Users/yatinpatel/Desktop/Python3-Programming-Course/yolo/yolov4-tiny.weights\".encode(\"ascii\"), 0, 1)\n",
    "meta = darknet.load_meta(\"/Users/yatinpatel/Desktop/Python3-Programming-Course/yolo/coco.data\".encode(\"ascii\"))\n"
   ],
   "metadata": {
    "collapsed": false,
    "ExecuteTime": {
     "end_time": "2023-07-19T22:36:05.393082Z",
     "start_time": "2023-07-19T22:36:05.358090Z"
    }
   }
  },
  {
   "cell_type": "code",
   "execution_count": 10,
   "outputs": [],
   "source": [
    "output_folder = '/Users/yatinpatel/Desktop/Python3-Programming-Course/output'\n",
    "\n",
    "# Create the output folder if it doesn't exist\n",
    "if not os.path.exists(output_folder):\n",
    "    os.makedirs(output_folder)"
   ],
   "metadata": {
    "collapsed": false,
    "ExecuteTime": {
     "end_time": "2023-07-18T17:01:20.357059Z",
     "start_time": "2023-07-18T17:01:20.339993Z"
    }
   }
  },
  {
   "cell_type": "code",
   "execution_count": 11,
   "outputs": [],
   "source": [
    "def zip_images_extraction(name):\n",
    "    \"\"\"\n",
    "    Get all the information (name, image, text) from a ZIP file.\n",
    "    :input: The name of a ZIP file.\n",
    "    :output: A list of dictionaries. Each dictionary contains all the information (name, image, text) of an image object.\n",
    "    \"\"\"\n",
    "    # ZIP name\n",
    "    zip_name = name\n",
    "\n",
    "    # Output\n",
    "    out = []\n",
    "\n",
    "    # Extract all the information\n",
    "    with zipfile.ZipFile(zip_name) as myzip:\n",
    "        zip_infos = myzip.infolist()\n",
    "\n",
    "        for ele in zip_infos:\n",
    "            # Name\n",
    "            name = ele.filename\n",
    "            # Image\n",
    "            img = Image.open(myzip.open(name))\n",
    "            # Text\n",
    "            img_strs = pytesseract.image_to_string(img.convert('L'))\n",
    "\n",
    "            # Test if \"Christopher\" or \"Mark\" are in the text\n",
    "            if \"Christopher\" in img_strs or \"Mark\" in img_strs:\n",
    "                # Example of a dictionary\n",
    "                my_dict = {\"name\": name, \"img\": img, \"text\": img_strs}\n",
    "                out.append(my_dict)\n",
    "    return out"
   ],
   "metadata": {
    "collapsed": false,
    "ExecuteTime": {
     "end_time": "2023-07-18T17:01:20.895712Z",
     "start_time": "2023-07-18T17:01:20.892389Z"
    }
   }
  },
  {
   "cell_type": "code",
   "execution_count": 12,
   "outputs": [],
   "source": [
    "def extract_faces(img, net, meta):\n",
    "    # Extract the rectangles of the faces\n",
    "    img_cv = np.array(img)\n",
    "    detections = yolo_detector(img_cv, net, meta)\n",
    "\n",
    "    # Filter detections to only keep those corresponding to \"person\"\n",
    "    faces = [det for det in detections if det[0].decode() == \"person\"]\n",
    "\n",
    "    # If no faces are detected\n",
    "    if len(faces) == 0:\n",
    "        return None\n",
    "\n",
    "    # Extract faces into the list\n",
    "    faces_imgs = []\n",
    "    for label, confidence, bbox in faces:\n",
    "        x, y, w, h = bbox\n",
    "        faces_imgs.append(img.crop((x, y, x + w, y + h)))\n",
    "        x, y, w, h = bbox\n",
    "        x, y, w, h = int(x), int(y), int(w), int(h)  # Convert to integers\n",
    "        faces_imgs.append(img.crop((x, y, x + w, y + h)))\n",
    "\n",
    "    # Compute nrows and ncols\n",
    "    ncols = 5\n",
    "    nrows = math.ceil(len(faces) / ncols)\n",
    "\n",
    "    # Create a contact sheet\n",
    "    contact_sheet = Image.new(img.mode, (550, 110 * nrows))\n",
    "    x, y = (0, 0)\n",
    "\n",
    "    for face in faces_imgs:\n",
    "        face.thumbnail((110, 110))\n",
    "        contact_sheet.paste(face, (x, y))\n",
    "\n",
    "        if x + 110 == contact_sheet.width:\n",
    "            x = 0\n",
    "            y += 110\n",
    "        else:\n",
    "            x += 110\n",
    "\n",
    "    return contact_sheet"
   ],
   "metadata": {
    "collapsed": false,
    "ExecuteTime": {
     "end_time": "2023-07-18T17:01:21.552508Z",
     "start_time": "2023-07-18T17:01:21.547454Z"
    }
   }
  },
  {
   "cell_type": "code",
   "execution_count": 13,
   "outputs": [],
   "source": [
    "def value_search(value, zip_name, thresh):\n",
    "    if zip_name == \"small_img.zip\":\n",
    "        ref_imgs = small_imgs\n",
    "    else:\n",
    "        ref_imgs = big_imgs\n",
    "\n",
    "    for ele in ref_imgs:\n",
    "        # Test if value is in the text\n",
    "        if value in ele[\"text\"]:\n",
    "            # Print out the name of the figure\n",
    "            print(\"Results found in file {}\".format(ele[\"name\"]))\n",
    "\n",
    "            # Index out the faces\n",
    "            img = ele[\"img\"]\n",
    "            contact_sheet = extract_faces(img, thresh)\n",
    "            if contact_sheet is not None:\n",
    "                # Save the contact sheet\n",
    "                contact_sheet.save(os.path.join(output_folder, ele[\"name\"].split('.')[0] + '.png'))\n",
    "                display(contact_sheet)\n",
    "            else:\n",
    "                print(\"But there were no faces in that file\")"
   ],
   "metadata": {
    "collapsed": false,
    "ExecuteTime": {
     "end_time": "2023-07-18T17:01:22.137007Z",
     "start_time": "2023-07-18T17:01:22.126516Z"
    }
   }
  },
  {
   "cell_type": "code",
   "execution_count": 14,
   "outputs": [
    {
     "ename": "TesseractNotFoundError",
     "evalue": "tesseract is not installed or it's not in your PATH. See README file for more information.",
     "output_type": "error",
     "traceback": [
      "\u001B[0;31m---------------------------------------------------------------------------\u001B[0m",
      "\u001B[0;31mFileNotFoundError\u001B[0m                         Traceback (most recent call last)",
      "File \u001B[0;32m~/Desktop/Python3-Programming-Course/venv/lib/python3.9/site-packages/pytesseract/pytesseract.py:255\u001B[0m, in \u001B[0;36mrun_tesseract\u001B[0;34m(input_filename, output_filename_base, extension, lang, config, nice, timeout)\u001B[0m\n\u001B[1;32m    254\u001B[0m \u001B[38;5;28;01mtry\u001B[39;00m:\n\u001B[0;32m--> 255\u001B[0m     proc \u001B[38;5;241m=\u001B[39m \u001B[43msubprocess\u001B[49m\u001B[38;5;241;43m.\u001B[39;49m\u001B[43mPopen\u001B[49m\u001B[43m(\u001B[49m\u001B[43mcmd_args\u001B[49m\u001B[43m,\u001B[49m\u001B[43m \u001B[49m\u001B[38;5;241;43m*\u001B[39;49m\u001B[38;5;241;43m*\u001B[39;49m\u001B[43msubprocess_args\u001B[49m\u001B[43m(\u001B[49m\u001B[43m)\u001B[49m\u001B[43m)\u001B[49m\n\u001B[1;32m    256\u001B[0m \u001B[38;5;28;01mexcept\u001B[39;00m \u001B[38;5;167;01mOSError\u001B[39;00m \u001B[38;5;28;01mas\u001B[39;00m e:\n",
      "File \u001B[0;32m/Library/Frameworks/Python.framework/Versions/3.9/lib/python3.9/subprocess.py:951\u001B[0m, in \u001B[0;36mPopen.__init__\u001B[0;34m(self, args, bufsize, executable, stdin, stdout, stderr, preexec_fn, close_fds, shell, cwd, env, universal_newlines, startupinfo, creationflags, restore_signals, start_new_session, pass_fds, user, group, extra_groups, encoding, errors, text, umask)\u001B[0m\n\u001B[1;32m    948\u001B[0m             \u001B[38;5;28mself\u001B[39m\u001B[38;5;241m.\u001B[39mstderr \u001B[38;5;241m=\u001B[39m io\u001B[38;5;241m.\u001B[39mTextIOWrapper(\u001B[38;5;28mself\u001B[39m\u001B[38;5;241m.\u001B[39mstderr,\n\u001B[1;32m    949\u001B[0m                     encoding\u001B[38;5;241m=\u001B[39mencoding, errors\u001B[38;5;241m=\u001B[39merrors)\n\u001B[0;32m--> 951\u001B[0m     \u001B[38;5;28;43mself\u001B[39;49m\u001B[38;5;241;43m.\u001B[39;49m\u001B[43m_execute_child\u001B[49m\u001B[43m(\u001B[49m\u001B[43margs\u001B[49m\u001B[43m,\u001B[49m\u001B[43m \u001B[49m\u001B[43mexecutable\u001B[49m\u001B[43m,\u001B[49m\u001B[43m \u001B[49m\u001B[43mpreexec_fn\u001B[49m\u001B[43m,\u001B[49m\u001B[43m \u001B[49m\u001B[43mclose_fds\u001B[49m\u001B[43m,\u001B[49m\n\u001B[1;32m    952\u001B[0m \u001B[43m                        \u001B[49m\u001B[43mpass_fds\u001B[49m\u001B[43m,\u001B[49m\u001B[43m \u001B[49m\u001B[43mcwd\u001B[49m\u001B[43m,\u001B[49m\u001B[43m \u001B[49m\u001B[43menv\u001B[49m\u001B[43m,\u001B[49m\n\u001B[1;32m    953\u001B[0m \u001B[43m                        \u001B[49m\u001B[43mstartupinfo\u001B[49m\u001B[43m,\u001B[49m\u001B[43m \u001B[49m\u001B[43mcreationflags\u001B[49m\u001B[43m,\u001B[49m\u001B[43m \u001B[49m\u001B[43mshell\u001B[49m\u001B[43m,\u001B[49m\n\u001B[1;32m    954\u001B[0m \u001B[43m                        \u001B[49m\u001B[43mp2cread\u001B[49m\u001B[43m,\u001B[49m\u001B[43m \u001B[49m\u001B[43mp2cwrite\u001B[49m\u001B[43m,\u001B[49m\n\u001B[1;32m    955\u001B[0m \u001B[43m                        \u001B[49m\u001B[43mc2pread\u001B[49m\u001B[43m,\u001B[49m\u001B[43m \u001B[49m\u001B[43mc2pwrite\u001B[49m\u001B[43m,\u001B[49m\n\u001B[1;32m    956\u001B[0m \u001B[43m                        \u001B[49m\u001B[43merrread\u001B[49m\u001B[43m,\u001B[49m\u001B[43m \u001B[49m\u001B[43merrwrite\u001B[49m\u001B[43m,\u001B[49m\n\u001B[1;32m    957\u001B[0m \u001B[43m                        \u001B[49m\u001B[43mrestore_signals\u001B[49m\u001B[43m,\u001B[49m\n\u001B[1;32m    958\u001B[0m \u001B[43m                        \u001B[49m\u001B[43mgid\u001B[49m\u001B[43m,\u001B[49m\u001B[43m \u001B[49m\u001B[43mgids\u001B[49m\u001B[43m,\u001B[49m\u001B[43m \u001B[49m\u001B[43muid\u001B[49m\u001B[43m,\u001B[49m\u001B[43m \u001B[49m\u001B[43mumask\u001B[49m\u001B[43m,\u001B[49m\n\u001B[1;32m    959\u001B[0m \u001B[43m                        \u001B[49m\u001B[43mstart_new_session\u001B[49m\u001B[43m)\u001B[49m\n\u001B[1;32m    960\u001B[0m \u001B[38;5;28;01mexcept\u001B[39;00m:\n\u001B[1;32m    961\u001B[0m     \u001B[38;5;66;03m# Cleanup if the child failed starting.\u001B[39;00m\n",
      "File \u001B[0;32m/Library/Frameworks/Python.framework/Versions/3.9/lib/python3.9/subprocess.py:1821\u001B[0m, in \u001B[0;36mPopen._execute_child\u001B[0;34m(self, args, executable, preexec_fn, close_fds, pass_fds, cwd, env, startupinfo, creationflags, shell, p2cread, p2cwrite, c2pread, c2pwrite, errread, errwrite, restore_signals, gid, gids, uid, umask, start_new_session)\u001B[0m\n\u001B[1;32m   1820\u001B[0m         err_msg \u001B[38;5;241m=\u001B[39m os\u001B[38;5;241m.\u001B[39mstrerror(errno_num)\n\u001B[0;32m-> 1821\u001B[0m     \u001B[38;5;28;01mraise\u001B[39;00m child_exception_type(errno_num, err_msg, err_filename)\n\u001B[1;32m   1822\u001B[0m \u001B[38;5;28;01mraise\u001B[39;00m child_exception_type(err_msg)\n",
      "\u001B[0;31mFileNotFoundError\u001B[0m: [Errno 2] No such file or directory: 'tesseract'",
      "\nDuring handling of the above exception, another exception occurred:\n",
      "\u001B[0;31mTesseractNotFoundError\u001B[0m                    Traceback (most recent call last)",
      "Cell \u001B[0;32mIn[14], line 2\u001B[0m\n\u001B[1;32m      1\u001B[0m \u001B[38;5;66;03m# Extract all the information related to small_img.zip and images.zip\u001B[39;00m\n\u001B[0;32m----> 2\u001B[0m small_imgs \u001B[38;5;241m=\u001B[39m \u001B[43mzip_images_extraction\u001B[49m\u001B[43m(\u001B[49m\u001B[38;5;124;43m\"\u001B[39;49m\u001B[38;5;124;43msmall_img.zip\u001B[39;49m\u001B[38;5;124;43m\"\u001B[39;49m\u001B[43m)\u001B[49m\n\u001B[1;32m      3\u001B[0m big_imgs \u001B[38;5;241m=\u001B[39m zip_images_extraction(\u001B[38;5;124m\"\u001B[39m\u001B[38;5;124mimages.zip\u001B[39m\u001B[38;5;124m\"\u001B[39m)\n",
      "Cell \u001B[0;32mIn[11], line 23\u001B[0m, in \u001B[0;36mzip_images_extraction\u001B[0;34m(name)\u001B[0m\n\u001B[1;32m     21\u001B[0m img \u001B[38;5;241m=\u001B[39m Image\u001B[38;5;241m.\u001B[39mopen(myzip\u001B[38;5;241m.\u001B[39mopen(name))\n\u001B[1;32m     22\u001B[0m \u001B[38;5;66;03m# Text\u001B[39;00m\n\u001B[0;32m---> 23\u001B[0m img_strs \u001B[38;5;241m=\u001B[39m \u001B[43mpytesseract\u001B[49m\u001B[38;5;241;43m.\u001B[39;49m\u001B[43mimage_to_string\u001B[49m\u001B[43m(\u001B[49m\u001B[43mimg\u001B[49m\u001B[38;5;241;43m.\u001B[39;49m\u001B[43mconvert\u001B[49m\u001B[43m(\u001B[49m\u001B[38;5;124;43m'\u001B[39;49m\u001B[38;5;124;43mL\u001B[39;49m\u001B[38;5;124;43m'\u001B[39;49m\u001B[43m)\u001B[49m\u001B[43m)\u001B[49m\n\u001B[1;32m     25\u001B[0m \u001B[38;5;66;03m# Test if \"Christopher\" or \"Mark\" are in the text\u001B[39;00m\n\u001B[1;32m     26\u001B[0m \u001B[38;5;28;01mif\u001B[39;00m \u001B[38;5;124m\"\u001B[39m\u001B[38;5;124mChristopher\u001B[39m\u001B[38;5;124m\"\u001B[39m \u001B[38;5;129;01min\u001B[39;00m img_strs \u001B[38;5;129;01mor\u001B[39;00m \u001B[38;5;124m\"\u001B[39m\u001B[38;5;124mMark\u001B[39m\u001B[38;5;124m\"\u001B[39m \u001B[38;5;129;01min\u001B[39;00m img_strs:\n\u001B[1;32m     27\u001B[0m     \u001B[38;5;66;03m# Example of a dictionary\u001B[39;00m\n",
      "File \u001B[0;32m~/Desktop/Python3-Programming-Course/venv/lib/python3.9/site-packages/pytesseract/pytesseract.py:423\u001B[0m, in \u001B[0;36mimage_to_string\u001B[0;34m(image, lang, config, nice, output_type, timeout)\u001B[0m\n\u001B[1;32m    418\u001B[0m \u001B[38;5;250m\u001B[39m\u001B[38;5;124;03m\"\"\"\u001B[39;00m\n\u001B[1;32m    419\u001B[0m \u001B[38;5;124;03mReturns the result of a Tesseract OCR run on the provided image to string\u001B[39;00m\n\u001B[1;32m    420\u001B[0m \u001B[38;5;124;03m\"\"\"\u001B[39;00m\n\u001B[1;32m    421\u001B[0m args \u001B[38;5;241m=\u001B[39m [image, \u001B[38;5;124m'\u001B[39m\u001B[38;5;124mtxt\u001B[39m\u001B[38;5;124m'\u001B[39m, lang, config, nice, timeout]\n\u001B[0;32m--> 423\u001B[0m \u001B[38;5;28;01mreturn\u001B[39;00m \u001B[43m{\u001B[49m\n\u001B[1;32m    424\u001B[0m \u001B[43m    \u001B[49m\u001B[43mOutput\u001B[49m\u001B[38;5;241;43m.\u001B[39;49m\u001B[43mBYTES\u001B[49m\u001B[43m:\u001B[49m\u001B[43m \u001B[49m\u001B[38;5;28;43;01mlambda\u001B[39;49;00m\u001B[43m:\u001B[49m\u001B[43m \u001B[49m\u001B[43mrun_and_get_output\u001B[49m\u001B[43m(\u001B[49m\u001B[38;5;241;43m*\u001B[39;49m\u001B[43m(\u001B[49m\u001B[43margs\u001B[49m\u001B[43m \u001B[49m\u001B[38;5;241;43m+\u001B[39;49m\u001B[43m \u001B[49m\u001B[43m[\u001B[49m\u001B[38;5;28;43;01mTrue\u001B[39;49;00m\u001B[43m]\u001B[49m\u001B[43m)\u001B[49m\u001B[43m)\u001B[49m\u001B[43m,\u001B[49m\n\u001B[1;32m    425\u001B[0m \u001B[43m    \u001B[49m\u001B[43mOutput\u001B[49m\u001B[38;5;241;43m.\u001B[39;49m\u001B[43mDICT\u001B[49m\u001B[43m:\u001B[49m\u001B[43m \u001B[49m\u001B[38;5;28;43;01mlambda\u001B[39;49;00m\u001B[43m:\u001B[49m\u001B[43m \u001B[49m\u001B[43m{\u001B[49m\u001B[38;5;124;43m'\u001B[39;49m\u001B[38;5;124;43mtext\u001B[39;49m\u001B[38;5;124;43m'\u001B[39;49m\u001B[43m:\u001B[49m\u001B[43m \u001B[49m\u001B[43mrun_and_get_output\u001B[49m\u001B[43m(\u001B[49m\u001B[38;5;241;43m*\u001B[39;49m\u001B[43margs\u001B[49m\u001B[43m)\u001B[49m\u001B[43m}\u001B[49m\u001B[43m,\u001B[49m\n\u001B[1;32m    426\u001B[0m \u001B[43m    \u001B[49m\u001B[43mOutput\u001B[49m\u001B[38;5;241;43m.\u001B[39;49m\u001B[43mSTRING\u001B[49m\u001B[43m:\u001B[49m\u001B[43m \u001B[49m\u001B[38;5;28;43;01mlambda\u001B[39;49;00m\u001B[43m:\u001B[49m\u001B[43m \u001B[49m\u001B[43mrun_and_get_output\u001B[49m\u001B[43m(\u001B[49m\u001B[38;5;241;43m*\u001B[39;49m\u001B[43margs\u001B[49m\u001B[43m)\u001B[49m\u001B[43m,\u001B[49m\n\u001B[1;32m    427\u001B[0m \u001B[43m\u001B[49m\u001B[43m}\u001B[49m\u001B[43m[\u001B[49m\u001B[43moutput_type\u001B[49m\u001B[43m]\u001B[49m\u001B[43m(\u001B[49m\u001B[43m)\u001B[49m\n",
      "File \u001B[0;32m~/Desktop/Python3-Programming-Course/venv/lib/python3.9/site-packages/pytesseract/pytesseract.py:426\u001B[0m, in \u001B[0;36mimage_to_string.<locals>.<lambda>\u001B[0;34m()\u001B[0m\n\u001B[1;32m    418\u001B[0m \u001B[38;5;250m\u001B[39m\u001B[38;5;124;03m\"\"\"\u001B[39;00m\n\u001B[1;32m    419\u001B[0m \u001B[38;5;124;03mReturns the result of a Tesseract OCR run on the provided image to string\u001B[39;00m\n\u001B[1;32m    420\u001B[0m \u001B[38;5;124;03m\"\"\"\u001B[39;00m\n\u001B[1;32m    421\u001B[0m args \u001B[38;5;241m=\u001B[39m [image, \u001B[38;5;124m'\u001B[39m\u001B[38;5;124mtxt\u001B[39m\u001B[38;5;124m'\u001B[39m, lang, config, nice, timeout]\n\u001B[1;32m    423\u001B[0m \u001B[38;5;28;01mreturn\u001B[39;00m {\n\u001B[1;32m    424\u001B[0m     Output\u001B[38;5;241m.\u001B[39mBYTES: \u001B[38;5;28;01mlambda\u001B[39;00m: run_and_get_output(\u001B[38;5;241m*\u001B[39m(args \u001B[38;5;241m+\u001B[39m [\u001B[38;5;28;01mTrue\u001B[39;00m])),\n\u001B[1;32m    425\u001B[0m     Output\u001B[38;5;241m.\u001B[39mDICT: \u001B[38;5;28;01mlambda\u001B[39;00m: {\u001B[38;5;124m'\u001B[39m\u001B[38;5;124mtext\u001B[39m\u001B[38;5;124m'\u001B[39m: run_and_get_output(\u001B[38;5;241m*\u001B[39margs)},\n\u001B[0;32m--> 426\u001B[0m     Output\u001B[38;5;241m.\u001B[39mSTRING: \u001B[38;5;28;01mlambda\u001B[39;00m: \u001B[43mrun_and_get_output\u001B[49m\u001B[43m(\u001B[49m\u001B[38;5;241;43m*\u001B[39;49m\u001B[43margs\u001B[49m\u001B[43m)\u001B[49m,\n\u001B[1;32m    427\u001B[0m }[output_type]()\n",
      "File \u001B[0;32m~/Desktop/Python3-Programming-Course/venv/lib/python3.9/site-packages/pytesseract/pytesseract.py:288\u001B[0m, in \u001B[0;36mrun_and_get_output\u001B[0;34m(image, extension, lang, config, nice, timeout, return_bytes)\u001B[0m\n\u001B[1;32m    277\u001B[0m \u001B[38;5;28;01mwith\u001B[39;00m save(image) \u001B[38;5;28;01mas\u001B[39;00m (temp_name, input_filename):\n\u001B[1;32m    278\u001B[0m     kwargs \u001B[38;5;241m=\u001B[39m {\n\u001B[1;32m    279\u001B[0m         \u001B[38;5;124m'\u001B[39m\u001B[38;5;124minput_filename\u001B[39m\u001B[38;5;124m'\u001B[39m: input_filename,\n\u001B[1;32m    280\u001B[0m         \u001B[38;5;124m'\u001B[39m\u001B[38;5;124moutput_filename_base\u001B[39m\u001B[38;5;124m'\u001B[39m: temp_name,\n\u001B[0;32m   (...)\u001B[0m\n\u001B[1;32m    285\u001B[0m         \u001B[38;5;124m'\u001B[39m\u001B[38;5;124mtimeout\u001B[39m\u001B[38;5;124m'\u001B[39m: timeout,\n\u001B[1;32m    286\u001B[0m     }\n\u001B[0;32m--> 288\u001B[0m     \u001B[43mrun_tesseract\u001B[49m\u001B[43m(\u001B[49m\u001B[38;5;241;43m*\u001B[39;49m\u001B[38;5;241;43m*\u001B[39;49m\u001B[43mkwargs\u001B[49m\u001B[43m)\u001B[49m\n\u001B[1;32m    289\u001B[0m     filename \u001B[38;5;241m=\u001B[39m \u001B[38;5;124mf\u001B[39m\u001B[38;5;124m\"\u001B[39m\u001B[38;5;132;01m{\u001B[39;00mkwargs[\u001B[38;5;124m'\u001B[39m\u001B[38;5;124moutput_filename_base\u001B[39m\u001B[38;5;124m'\u001B[39m]\u001B[38;5;132;01m}\u001B[39;00m\u001B[38;5;132;01m{\u001B[39;00mextsep\u001B[38;5;132;01m}\u001B[39;00m\u001B[38;5;132;01m{\u001B[39;00mextension\u001B[38;5;132;01m}\u001B[39;00m\u001B[38;5;124m\"\u001B[39m\n\u001B[1;32m    290\u001B[0m     \u001B[38;5;28;01mwith\u001B[39;00m \u001B[38;5;28mopen\u001B[39m(filename, \u001B[38;5;124m'\u001B[39m\u001B[38;5;124mrb\u001B[39m\u001B[38;5;124m'\u001B[39m) \u001B[38;5;28;01mas\u001B[39;00m output_file:\n",
      "File \u001B[0;32m~/Desktop/Python3-Programming-Course/venv/lib/python3.9/site-packages/pytesseract/pytesseract.py:260\u001B[0m, in \u001B[0;36mrun_tesseract\u001B[0;34m(input_filename, output_filename_base, extension, lang, config, nice, timeout)\u001B[0m\n\u001B[1;32m    258\u001B[0m         \u001B[38;5;28;01mraise\u001B[39;00m\n\u001B[1;32m    259\u001B[0m     \u001B[38;5;28;01melse\u001B[39;00m:\n\u001B[0;32m--> 260\u001B[0m         \u001B[38;5;28;01mraise\u001B[39;00m TesseractNotFoundError()\n\u001B[1;32m    262\u001B[0m \u001B[38;5;28;01mwith\u001B[39;00m timeout_manager(proc, timeout) \u001B[38;5;28;01mas\u001B[39;00m error_string:\n\u001B[1;32m    263\u001B[0m     \u001B[38;5;28;01mif\u001B[39;00m proc\u001B[38;5;241m.\u001B[39mreturncode:\n",
      "\u001B[0;31mTesseractNotFoundError\u001B[0m: tesseract is not installed or it's not in your PATH. See README file for more information."
     ]
    }
   ],
   "source": [
    "# Extract all the information related to small_img.zip and images.zip\n",
    "small_imgs = zip_images_extraction(\"small_img.zip\")\n",
    "big_imgs = zip_images_extraction(\"images.zip\")"
   ],
   "metadata": {
    "collapsed": false,
    "ExecuteTime": {
     "end_time": "2023-07-18T17:01:26.411209Z",
     "start_time": "2023-07-18T17:01:23.041396Z"
    }
   }
  },
  {
   "cell_type": "code",
   "execution_count": null,
   "outputs": [],
   "source": [
    "# Reproduce the search for \"Christopher\"\n",
    "value = \"Christopher\"\n",
    "zip_name = \"small_img.zip\"\n",
    "value_search(value, zip_name, thresh=0.5)"
   ],
   "metadata": {
    "collapsed": false,
    "ExecuteTime": {
     "start_time": "2023-07-18T17:01:26.410203Z"
    }
   }
  },
  {
   "cell_type": "code",
   "execution_count": null,
   "outputs": [],
   "source": [
    "# Reproduce the search for \"Mark\"\n",
    "value = \"Mark\"\n",
    "zip_name = \"images.zip\"\n",
    "value_search(value, zip_name, thresh=0.5)"
   ],
   "metadata": {
    "collapsed": false
   }
  },
  {
   "cell_type": "code",
   "execution_count": 25,
   "outputs": [
    {
     "name": "stdout",
     "output_type": "stream",
     "text": [
      "An error occurred: module 'darknet' has no attribute 'load_network'\n"
     ]
    }
   ],
   "source": [
    "import darknet\n",
    "\n",
    "try:\n",
    "    # Load YOLOv4-tiny model\n",
    "    net = darknet.load_network(\"/Users/yatinpatel/Desktop/Python3-Programming-Course/yolo/yolov4-tiny.cfg\".encode(\"ascii\"),\n",
    "                               \"/Users/yatinpatel/Desktop/Python3-Programming-Course/yolo/yolov4-tiny.weights\".encode(\"ascii\"), 0, 1)\n",
    "\n",
    "    # Load COCO dataset metadata\n",
    "    meta = darknet.load_meta(\"/Users/yatinpatel/Desktop/Python3-Programming-Course/yolo/coco.data\".encode(\"ascii\"))\n",
    "\n",
    "    # Continue with your code...\n",
    "except Exception as e:\n",
    "    print(\"An error occurred:\", str(e))"
   ],
   "metadata": {
    "collapsed": false,
    "ExecuteTime": {
     "end_time": "2023-07-19T22:36:58.074518Z",
     "start_time": "2023-07-19T22:36:58.059097Z"
    }
   }
  },
  {
   "cell_type": "code",
   "execution_count": null,
   "outputs": [],
   "source": [
    "import darknet\n",
    "\n",
    "try:\n",
    "    # Load YOLOv4-tiny model\n",
    "    net = darknet.load_net_custom(\"/Users/yatinpatel/Desktop/Python3-Programming-Course/yolo/yolov4-tiny.cfg\".encode(\"ascii\"),\n",
    "                                  \"/Users/yatinpatel/Desktop/Python3-Programming-Course/yolo/yolov4-tiny.weights\".encode(\"ascii\"), 0, 1)\n",
    "\n",
    "    # Load COCO dataset metadata\n",
    "    meta = darknet.load_meta(\"/path/to/coco.data\".encode(\"ascii\"))\n",
    "\n",
    "    # Continue with your code...\n",
    "except Exception as e:\n",
    "    print(\"An error occurred:\", str(e))\n"
   ],
   "metadata": {
    "collapsed": false
   }
  }
 ],
 "metadata": {
  "kernelspec": {
   "display_name": "Python 3",
   "language": "python",
   "name": "python3"
  },
  "language_info": {
   "codemirror_mode": {
    "name": "ipython",
    "version": 2
   },
   "file_extension": ".py",
   "mimetype": "text/x-python",
   "name": "python",
   "nbconvert_exporter": "python",
   "pygments_lexer": "ipython2",
   "version": "2.7.6"
  }
 },
 "nbformat": 4,
 "nbformat_minor": 0
}
